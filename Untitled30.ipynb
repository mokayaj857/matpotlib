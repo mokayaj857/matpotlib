{
  "nbformat": 4,
  "nbformat_minor": 0,
  "metadata": {
    "colab": {
      "provenance": [],
      "authorship_tag": "ABX9TyP6xz/+2bfVy7WIg8tuKwK8",
      "include_colab_link": true
    },
    "kernelspec": {
      "name": "python3",
      "display_name": "Python 3"
    },
    "language_info": {
      "name": "python"
    }
  },
  "cells": [
    {
      "cell_type": "markdown",
      "metadata": {
        "id": "view-in-github",
        "colab_type": "text"
      },
      "source": [
        "<a href=\"https://colab.research.google.com/github/mokayaj857/matpotlib/blob/main/Untitled30.ipynb\" target=\"_parent\"><img src=\"https://colab.research.google.com/assets/colab-badge.svg\" alt=\"Open In Colab\"/></a>"
      ]
    },
    {
      "cell_type": "code",
      "execution_count": null,
      "metadata": {
        "colab": {
          "base_uri": "https://localhost:8080/"
        },
        "id": "xPogX2obv-m0",
        "outputId": "b47f47bf-3b83-4951-ec12-ca62591ca580"
      },
      "outputs": [
        {
          "output_type": "stream",
          "name": "stdout",
          "text": [
            "[0.  1.5 3.  4.5]\n"
          ]
        }
      ],
      "source": [
        "import numpy as np\n",
        "arr_arange = np.arange(0, 5, 1.5)\n",
        "print(arr_arange)  # Output: [0.  1.5  3.  4.5]\n"
      ]
    },
    {
      "cell_type": "code",
      "source": [
        "arr_linspace = np.linspace(0, 5, 4)\n",
        "print(arr_linspace)  # Output: [0.         1.66666667 3.33333333 5.        ]\n"
      ],
      "metadata": {
        "colab": {
          "base_uri": "https://localhost:8080/"
        },
        "id": "1hVJdHw1wLEt",
        "outputId": "53a1c4e4-3c81-4508-f22a-562cff3813d9"
      },
      "execution_count": null,
      "outputs": [
        {
          "output_type": "stream",
          "name": "stdout",
          "text": [
            "[0.         1.66666667 3.33333333 5.        ]\n"
          ]
        }
      ]
    },
    {
      "cell_type": "code",
      "source": [
        "str = \"Hello World\"\n",
        "print(str[2:5])\n"
      ],
      "metadata": {
        "colab": {
          "base_uri": "https://localhost:8080/"
        },
        "id": "kKjFyp35x7Kk",
        "outputId": "1aa6c135-b9e0-455d-9132-2745ee917545"
      },
      "execution_count": null,
      "outputs": [
        {
          "output_type": "stream",
          "name": "stdout",
          "text": [
            "llo\n"
          ]
        }
      ]
    },
    {
      "cell_type": "code",
      "source": [
        "import datetime\n",
        "\n",
        "# Step 1: Ask for user's name\n",
        "name = input(\"Enter your name: \")\n",
        "\n",
        "# Step 2: Ask for user's age\n",
        "try:\n",
        "    age = int(input(\"Enter your age: \"))\n",
        "except ValueError:\n",
        "    print(\"Invalid input! Please enter a valid age as a number.\")\n",
        "    exit()\n",
        "\n",
        "# Step 3: Get the current year\n",
        "current_year = datetime.datetime.now().year\n",
        "\n",
        "# Step 4: Calculate the year they will turn 100\n",
        "years_left = 100 - age\n",
        "year_turn_100 = current_year + years_left\n",
        "\n",
        "# Step 5: Print the result\n",
        "print(f\"Hello, {name}! You will turn 100 years old in the year {year_turn_100}.\")\n"
      ],
      "metadata": {
        "id": "y6BKNWPsyind"
      },
      "execution_count": null,
      "outputs": []
    },
    {
      "cell_type": "code",
      "source": [
        "import datetime\n",
        "name = input(\"Enter your name: \")\n",
        "age = int(input(\"Enter your age: \"))\n",
        "calcu= (age-100)-datetime.datetime.now().year\n",
        "print(f\"Hello, {name}! You will turn 100 years old in the year {calcu}.\")"
      ],
      "metadata": {
        "id": "HORLO01V1jhm"
      },
      "execution_count": null,
      "outputs": []
    },
    {
      "cell_type": "code",
      "source": [
        "import datetime\n",
        "name = input(\"Enter your name: \")\n",
        "age = int(input(\"Enter your age: \"))\n",
        "calcu= (age-100)-datetime.datetime.now().year\n",
        "print(f\"Hello, {name}! You will turn 100 years old in the year {calcu}.\")"
      ],
      "metadata": {
        "id": "b0MMzaDP1s6t"
      },
      "execution_count": null,
      "outputs": []
    },
    {
      "cell_type": "code",
      "source": [
        "list1 = [\"Cate\", \"Paul\", \"Mike\", \"Joel\", \"Rose\"]\n",
        "list2 = [600, 600, 400, 200, 100]\n",
        "my_score = dict(zip(list1, list2))\n",
        "print(my_score)"
      ],
      "metadata": {
        "id": "G4Yz-WmE_C5s"
      },
      "execution_count": null,
      "outputs": []
    }
  ]
}